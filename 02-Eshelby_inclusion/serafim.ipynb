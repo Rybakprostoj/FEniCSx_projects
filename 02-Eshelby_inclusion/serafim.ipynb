{
 "cells": [
  {
   "cell_type": "code",
   "execution_count": 1,
   "id": "7bcd1d1e-0c15-432f-95f4-e53d8d74a270",
   "metadata": {},
   "outputs": [],
   "source": [
    "import dolfinx # FEM in python\n",
    "import matplotlib.pyplot as plt\n",
    "import ufl # variational formulations\n",
    "import numpy as np\n",
    "from mpi4py import MPI\n",
    "from petsc4py.PETSc import ScalarType\n",
    "import gmsh"
   ]
  },
  {
   "cell_type": "code",
   "execution_count": 2,
   "id": "978012ca-0214-43f1-82f0-1a46a7f1e535",
   "metadata": {},
   "outputs": [],
   "source": [
    "import pyvista # visualisation in python notebook\n",
    "# pyvista.set_jupyter_backend(\"pythreejs\") # interactif, mais pas super\n",
    "pyvista.set_jupyter_backend(\"none\") # non-interactif, mais mieux\n",
    "# NB : ce truc peut se changer a chaque plot"
   ]
  },
  {
   "cell_type": "code",
   "execution_count": 3,
   "id": "ae83a448-1f34-4d37-b990-2010d7f1ee14",
   "metadata": {},
   "outputs": [],
   "source": [
    "import extract # this to be able to have the value of a solution at point (x,y)\n",
    "# use it this way : extract.solution(my_domain, u_solution, x=0.5, y=0.01)"
   ]
  },
  {
   "cell_type": "code",
   "execution_count": 4,
   "id": "2e55ca68-e8aa-4712-baf0-c601f5d83fbf",
   "metadata": {},
   "outputs": [
    {
     "name": "stdout",
     "output_type": "stream",
     "text": [
      "Info    : Meshing 1D...\n",
      "Info    : [  0%] Meshing curve 1 (Ellipse)\n",
      "Info    : [ 50%] Meshing curve 2 (Ellipse)\n",
      "Info    : Done meshing 1D (Wall 0.0016088s, CPU 0.00315s)\n",
      "Info    : Meshing 2D...\n",
      "Info    : [  0%] Meshing surface 1 (Plane, Frontal-Delaunay)\n",
      "Info    : [ 50%] Meshing surface 2 (Plane, Frontal-Delaunay)\n",
      "Info    : Done meshing 2D (Wall 0.884689s, CPU 0.835872s)\n",
      "Info    : 17662 nodes 35387 elements\n"
     ]
    }
   ],
   "source": [
    "R_i = 1.0 # Radius of the inclusion\n",
    "R_e = 6.9  # Radius of the matrix (whole domain)\n",
    "aspect_ratio = 1.0 #0.75\n",
    "mesh_size = 0.1*R_i\n",
    "mesh_order = 1 \n",
    "\n",
    "mesh_comm = MPI.COMM_WORLD\n",
    "model_rank = 0\n",
    "gmsh.initialize()\n",
    "facet_names = {\"inner_boundary\": 1, \"outer_boundary\": 2}\n",
    "cell_names = {\"inclusion\": 1, \"matrix\": 2}\n",
    "model = gmsh.model()\n",
    "model.add(\"Disk\")\n",
    "model.setCurrent(\"Disk\")\n",
    "gdim = 2 # geometric dimension of the mesh\n",
    "inner_disk = gmsh.model.occ.addDisk(0, 0, 0, R_i, aspect_ratio * R_i)\n",
    "outer_disk = gmsh.model.occ.addDisk(0, 0, 0, R_e, R_e)\n",
    "whole_domain = gmsh.model.occ.fragment(\n",
    "            [(gdim, outer_disk)], [(gdim, inner_disk)]\n",
    "        )\n",
    "gmsh.model.occ.synchronize()\n",
    "# Add physical tag for bulk\n",
    "inner_domain = whole_domain[0][0]\n",
    "outer_domain = whole_domain[0][1]\n",
    "model.addPhysicalGroup(gdim, [inner_domain[1]], tag=cell_names[\"inclusion\"])\n",
    "model.setPhysicalName(gdim, inner_domain[1], \"Inclusion\")\n",
    "model.addPhysicalGroup(gdim, [outer_domain[1]], tag=cell_names[\"matrix\"])\n",
    "model.setPhysicalName(gdim, outer_domain[1], \"Matrix\")\n",
    "\n",
    "# Add physical tag for boundaries\n",
    "lines = gmsh.model.getEntities(dim=1)\n",
    "inner_boundary = lines[1][1]\n",
    "outer_boundary = lines[0][1]\n",
    "gmsh.model.addPhysicalGroup(1, [inner_boundary], facet_names[\"inner_boundary\"])\n",
    "gmsh.model.addPhysicalGroup(1, [outer_boundary], facet_names[\"outer_boundary\"])\n",
    "gmsh.option.setNumber(\"Mesh.CharacteristicLengthMin\",mesh_size)\n",
    "gmsh.option.setNumber(\"Mesh.CharacteristicLengthMax\",mesh_size)\n",
    "model.mesh.generate(gdim)\n",
    "gmsh.option.setNumber(\"General.Terminal\", 1)\n",
    "model.mesh.setOrder(mesh_order)\n",
    "gmsh.option.setNumber(\"General.Terminal\", 0)\n",
    "\n",
    "# Import the mesh in dolfinx\n",
    "from dolfinx.io import gmshio\n",
    "domain, cell_tags, facet_tags = gmshio.model_to_mesh(model, mesh_comm, model_rank, gdim=gdim)\n",
    "domain.name = \"composite\"\n",
    "cell_tags.name = f\"{domain.name}_cells\"\n",
    "facet_tags.name = f\"{domain.name}_facets\"\n",
    "gmsh.finalize()\n",
    "\n",
    "# Save the mesh in XDMF format\n",
    "with dolfinx.io.XDMFFile(MPI.COMM_WORLD, \"output/mesh.xdmf\", \"w\") as file:\n",
    "    file.write_mesh(domain)\n",
    "    domain.topology.create_connectivity(1, 2)\n",
    "    file.write_meshtags(cell_tags, geometry_xpath=f\"/Xdmf/Domain/Grid[@Name='{domain.name}']/Geometry\")\n",
    "    file.write_meshtags(facet_tags, geometry_xpath=f\"/Xdmf/Domain/Grid[@Name='{domain.name}']/Geometry\")\n"
   ]
  },
  {
   "cell_type": "code",
   "execution_count": 5,
   "id": "0e9ddfaa-0040-4079-8490-694c90c8e0dc",
   "metadata": {},
   "outputs": [
    {
     "name": "stdout",
     "output_type": "stream",
     "text": [
      "Total surface:   149.5660, Inner surface:     3.1364, Outer surface:   146.4296\n"
     ]
    }
   ],
   "source": [
    "ds = ufl.Measure(\"ds\", subdomain_data=facet_tags, domain=domain)\n",
    "dx = ufl.Measure(\"dx\", subdomain_data=cell_tags, domain=domain)\n",
    "one = dolfinx.fem.Constant(domain,ScalarType(1.))\n",
    "surface = dolfinx.fem.assemble_scalar(dolfinx.fem.form(one * dx))\n",
    "surface_inner = dolfinx.fem.assemble_scalar(dolfinx.fem.form(one * dx(cell_names[\"inclusion\"])))\n",
    "surface_outer = dolfinx.fem.assemble_scalar(dolfinx.fem.form(one * dx(cell_names[\"matrix\"])))\n",
    "print(f\"Total surface: {surface:10.4f}, Inner surface: {surface_inner:10.4f}, Outer surface: {surface_outer:10.4f}\")"
   ]
  },
  {
   "cell_type": "code",
   "execution_count": 6,
   "id": "8431bed0-ecd7-4038-a738-574381b361ad",
   "metadata": {},
   "outputs": [],
   "source": [
    "V = dolfinx.fem.VectorFunctionSpace(domain,(\"Lagrange\", 1),dim=2)\n",
    "def eps(u):\n",
    "    return ufl.sym(ufl.grad(u))\n",
    "E_m = 0.8 # Young's modulus in matrix\n",
    "nu_m = 0.35 # Poisson's ratio in matrix\n",
    "E_i = 11.0\n",
    "nu_i = 0.3\n",
    "\n",
    "I2 = ufl.Identity(2)\n",
    "#mu = dolfinx.fem.Constant(domain, ScalarType( E/2./(1.+nu) ))\n",
    "#lamb = E*nu/(1.+nu)/(1.-2.*nu)\n",
    "\n",
    "# Hook's law is written as the top of this notebook\n",
    "def sigma(eps, E, nu):\n",
    "    mu = E/2./(1.+nu)\n",
    "    lamb = E*nu/(1.+nu)/(1.-2.*nu)\n",
    "    return lamb*ufl.tr(eps)*I2 + 2*mu*eps\n",
    "\n",
    "u = ufl.TrialFunction(V)\n",
    "u_bar = ufl.TestFunction(V)\n",
    "\n",
    "bilinear_form_inclusion = ( ufl.inner(sigma(eps(u),E_i,nu_i),eps(u_bar)) ) * dx(1)\n",
    "bilinear_form_matrix = ( ufl.inner(sigma(eps(u),E_m,nu_m),eps(u_bar)) ) * dx(2)\n",
    "bilinear_form = bilinear_form_inclusion + bilinear_form_matrix\n",
    "g=0.0 # some weight\n",
    "body_force = dolfinx.fem.Constant(domain, ScalarType((0,-g)))\n",
    "linear_form = ( ufl.dot(body_force,u_bar)  ) * ufl.dx"
   ]
  },
  {
   "cell_type": "code",
   "execution_count": 7,
   "id": "f9daa650-a415-45aa-a72f-0dfdf5ee8b3e",
   "metadata": {},
   "outputs": [],
   "source": [
    "outer_facets = facet_tags.find(facet_names[\"outer_boundary\"])\n",
    "\n",
    "outer_boundary_dofs = dolfinx.fem.locate_dofs_topological(V, gdim-1,outer_facets)\n"
   ]
  },
  {
   "cell_type": "code",
   "execution_count": 8,
   "id": "a68e6d4d-46ff-497e-b8e6-955da74ad729",
   "metadata": {},
   "outputs": [],
   "source": [
    "uD = dolfinx.fem.Function(V)\n",
    "\n",
    "u_on_boundary = lambda x: np.array([-x[1], -x[0]], dtype=ScalarType)\n",
    "\n",
    "uD.interpolate(u_on_boundary)\n",
    "\n",
    "bc = dolfinx.fem.dirichletbc(uD, outer_boundary_dofs)"
   ]
  },
  {
   "cell_type": "code",
   "execution_count": 9,
   "id": "b21e65c2-b56b-49e8-83a8-5911dc738c8f",
   "metadata": {},
   "outputs": [],
   "source": [
    "problem = dolfinx.fem.petsc.LinearProblem(bilinear_form, linear_form, bcs=[bc], \n",
    "                                          petsc_options={\"ksp_type\": \"preonly\", \"pc_type\": \"lu\"})\n",
    "u_solution = problem.solve()"
   ]
  },
  {
   "cell_type": "code",
   "execution_count": 10,
   "id": "735a43a2-1016-43bd-b550-fa07b6111c7d",
   "metadata": {},
   "outputs": [
    {
     "data": {
      "text/plain": [
       "59.0355945143035"
      ]
     },
     "execution_count": 10,
     "metadata": {},
     "output_type": "execute_result"
    }
   ],
   "source": [
    "np.sqrt(dolfinx.fem.assemble_scalar(dolfinx.fem.form(ufl.dot(u_solution,u_solution) * ufl.dx)))"
   ]
  },
  {
   "cell_type": "code",
   "execution_count": null,
   "id": "3b9124eb-680b-471b-8bcd-56baf256f244",
   "metadata": {},
   "outputs": [],
   "source": []
  },
  {
   "cell_type": "code",
   "execution_count": null,
   "id": "25d1eb82-882f-456d-bbbe-ccc35127d024",
   "metadata": {},
   "outputs": [],
   "source": []
  }
 ],
 "metadata": {
  "kernelspec": {
   "display_name": "Python 3 (ipykernel)",
   "language": "python",
   "name": "python3"
  },
  "language_info": {
   "codemirror_mode": {
    "name": "ipython",
    "version": 3
   },
   "file_extension": ".py",
   "mimetype": "text/x-python",
   "name": "python",
   "nbconvert_exporter": "python",
   "pygments_lexer": "ipython3",
   "version": "3.10.6"
  }
 },
 "nbformat": 4,
 "nbformat_minor": 5
}
